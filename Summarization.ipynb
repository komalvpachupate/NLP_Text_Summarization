{
 "cells": [
  {
   "cell_type": "code",
   "execution_count": 8,
   "metadata": {},
   "outputs": [],
   "source": [
    "# !pip install -U spacy\n",
    "# !python -m spacy download en_core_web_sm"
   ]
  },
  {
   "cell_type": "code",
   "execution_count": 11,
   "metadata": {},
   "outputs": [],
   "source": [
    "text = \"\"\"Artificial intelligence (AI) is intelligence demonstrated by machines, as opposed to the natural intelligence displayed by animals including humans. AI research has been defined as the field of study of intelligent agents, which refers to any system that perceives its environment and takes actions that maximize its chance of achieving its goals.[a]\n",
    "The term \"artificial intelligence\" had previously been used to describe machines that mimic and display \"human\" cognitive skills that are associated with the human mind, such as \"learning\" and \"problem-solving\". This definition has since been rejected by major AI researchers who now describe AI in terms of rationality and acting rationally, which does not limit how intelligence can be articulated.[b]\n",
    "AI applications include advanced web search engines (e.g., Google), recommendation systems (used by YouTube, Amazon and Netflix), understanding human speech (such as Siri and Alexa), self-driving cars (e.g., Tesla), automated decision-making and competing at the highest level in strategic game systems (such as chess and Go).[2][citation needed] As machines become increasingly capable, tasks considered to require \"intelligence\" are often removed from the definition of AI, a phenomenon known as the AI effect.[3] For instance, optical character recognition is frequently excluded from things considered to be AI,[4] having become a routine technology.[5]\n",
    "Artificial intelligence was founded as an academic discipline in 1956, and in the years since has experienced several waves of optimism,[6][7] followed by disappointment and the loss of funding (known as an \"AI winter\"),[8][9] followed by new approaches, success and renewed funding.[7][10] AI research has tried and discarded many different approaches since its founding, including simulating the brain, modeling human problem solving, formal logic, large databases of knowledge and imitating animal behavior. In the first decades of the 21st century, highly mathematical-statistical machine learning has dominated the field, and this technique has proved highly successful, helping to solve many challenging problems throughout industry and academia.[11][10]\n",
    "The various sub-fields of AI research are centered around particular goals and the use of particular tools. The traditional goals of AI research include reasoning, knowledge representation, planning, learning, natural language processing, perception, and the ability to move and manipulate objects.[c] General intelligence (the ability to solve an arbitrary problem) is among the field's long-term goals.[12] To solve these problems, AI researchers have adapted and integrated a wide range of problem-solving techniques—including search and mathematical optimization, formal logic, artificial neural networks, and methods based on statistics, probability and economics. AI also draws upon computer science, psychology, linguistics, philosophy, and many other fields.\n",
    "The field was founded on the assumption that human intelligence \"can be so precisely described that a machine can be made to simulate it\".[d] This raised philosophical arguments about the mind and the ethical consequences of creating artificial beings endowed with human-like intelligence; these issues have previously been explored by myth, fiction and philosophy since antiquity.[14] Science fiction writers and futurologists have since suggested that AI may become an existential risk to humanity if its rational capacities are not overseen\"\"\""
   ]
  },
  {
   "cell_type": "code",
   "execution_count": 2,
   "metadata": {},
   "outputs": [],
   "source": [
    "import spacy\n",
    "from spacy.lang.en.stop_words import STOP_WORDS\n",
    "from string import punctuation"
   ]
  },
  {
   "cell_type": "code",
   "execution_count": 4,
   "metadata": {},
   "outputs": [],
   "source": [
    "stopwords = list(STOP_WORDS)\n",
    "# stopwords"
   ]
  },
  {
   "cell_type": "code",
   "execution_count": 5,
   "metadata": {},
   "outputs": [],
   "source": [
    "nlp = spacy.load(\"en_core_web_sm\")"
   ]
  },
  {
   "cell_type": "code",
   "execution_count": 12,
   "metadata": {},
   "outputs": [],
   "source": [
    "doc = nlp(text)"
   ]
  },
  {
   "cell_type": "code",
   "execution_count": 14,
   "metadata": {},
   "outputs": [],
   "source": [
    "token = [token.text for token in doc]\n",
    "# token"
   ]
  },
  {
   "cell_type": "code",
   "execution_count": 39,
   "metadata": {},
   "outputs": [
    {
     "data": {
      "text/plain": [
       "'!\"#$%&\\'()*+,-./:;<=>?@[\\\\]^_`{|}~———[]1234567890'"
      ]
     },
     "execution_count": 39,
     "metadata": {},
     "output_type": "execute_result"
    }
   ],
   "source": [
    "punctuation = punctuation + \"—\"+\"[\"+\"]\"+\"1\"+'2'+'3'+'4'+'5'+'6'+'7'+'8'+'9'+'0'\n",
    "punctuation"
   ]
  },
  {
   "cell_type": "code",
   "execution_count": 40,
   "metadata": {},
   "outputs": [],
   "source": [
    "#frequency of word\n",
    "\n",
    "word_freq = {}\n",
    "for word in doc:\n",
    "    if word.text.lower() not in stopwords:\n",
    "        if word.text.lower() not in punctuation:\n",
    "            if word.text not in word_freq.keys():\n",
    "                word_freq[word.text] = 1\n",
    "            else:\n",
    "                word_freq[word.text] += 1"
   ]
  },
  {
   "cell_type": "code",
   "execution_count": 41,
   "metadata": {},
   "outputs": [
    {
     "data": {
      "text/plain": [
       "{'Artificial': 2,\n",
       " 'intelligence': 10,\n",
       " 'AI': 14,\n",
       " 'demonstrated': 1,\n",
       " 'machines': 3,\n",
       " 'opposed': 1,\n",
       " 'natural': 2,\n",
       " 'displayed': 1,\n",
       " 'animals': 1,\n",
       " 'including': 3,\n",
       " 'humans': 1,\n",
       " 'research': 4,\n",
       " 'defined': 1,\n",
       " 'field': 4,\n",
       " 'study': 1,\n",
       " 'intelligent': 1,\n",
       " 'agents': 1,\n",
       " 'refers': 1,\n",
       " 'system': 1,\n",
       " 'perceives': 1,\n",
       " 'environment': 1,\n",
       " 'takes': 1,\n",
       " 'actions': 1,\n",
       " 'maximize': 1,\n",
       " 'chance': 1,\n",
       " 'achieving': 1,\n",
       " 'goals.[a': 1,\n",
       " '\\n': 5,\n",
       " 'term': 2,\n",
       " 'artificial': 3,\n",
       " 'previously': 2,\n",
       " 'describe': 2,\n",
       " 'mimic': 1,\n",
       " 'display': 1,\n",
       " 'human': 6,\n",
       " 'cognitive': 1,\n",
       " 'skills': 1,\n",
       " 'associated': 1,\n",
       " 'mind': 2,\n",
       " 'learning': 3,\n",
       " 'problem': 4,\n",
       " 'solving': 3,\n",
       " 'definition': 2,\n",
       " 'rejected': 1,\n",
       " 'major': 1,\n",
       " 'researchers': 2,\n",
       " 'terms': 1,\n",
       " 'rationality': 1,\n",
       " 'acting': 1,\n",
       " 'rationally': 1,\n",
       " 'limit': 1,\n",
       " 'articulated.[b': 1,\n",
       " 'applications': 1,\n",
       " 'include': 2,\n",
       " 'advanced': 1,\n",
       " 'web': 1,\n",
       " 'search': 2,\n",
       " 'engines': 1,\n",
       " 'e.g.': 2,\n",
       " 'Google': 1,\n",
       " 'recommendation': 1,\n",
       " 'systems': 2,\n",
       " 'YouTube': 1,\n",
       " 'Amazon': 1,\n",
       " 'Netflix': 1,\n",
       " 'understanding': 1,\n",
       " 'speech': 1,\n",
       " 'Siri': 1,\n",
       " 'Alexa': 1,\n",
       " 'self': 1,\n",
       " 'driving': 1,\n",
       " 'cars': 1,\n",
       " 'Tesla': 1,\n",
       " 'automated': 1,\n",
       " 'decision': 1,\n",
       " 'making': 1,\n",
       " 'competing': 1,\n",
       " 'highest': 1,\n",
       " 'level': 1,\n",
       " 'strategic': 1,\n",
       " 'game': 1,\n",
       " 'chess': 1,\n",
       " 'Go).[2][citation': 1,\n",
       " 'needed': 1,\n",
       " 'increasingly': 1,\n",
       " 'capable': 1,\n",
       " 'tasks': 1,\n",
       " 'considered': 2,\n",
       " 'require': 1,\n",
       " 'removed': 1,\n",
       " 'phenomenon': 1,\n",
       " 'known': 2,\n",
       " 'effect.[3': 1,\n",
       " 'instance': 1,\n",
       " 'optical': 1,\n",
       " 'character': 1,\n",
       " 'recognition': 1,\n",
       " 'frequently': 1,\n",
       " 'excluded': 1,\n",
       " 'things': 1,\n",
       " 'AI,[4': 1,\n",
       " 'having': 1,\n",
       " 'routine': 1,\n",
       " 'technology.[5': 1,\n",
       " 'founded': 2,\n",
       " 'academic': 1,\n",
       " 'discipline': 1,\n",
       " '1956': 1,\n",
       " 'years': 1,\n",
       " 'experienced': 1,\n",
       " 'waves': 1,\n",
       " 'optimism,[6][7': 1,\n",
       " 'followed': 2,\n",
       " 'disappointment': 1,\n",
       " 'loss': 1,\n",
       " 'funding': 1,\n",
       " 'winter\"),[8][9': 1,\n",
       " 'new': 1,\n",
       " 'approaches': 2,\n",
       " 'success': 1,\n",
       " 'renewed': 1,\n",
       " 'funding.[7][10': 1,\n",
       " 'tried': 1,\n",
       " 'discarded': 1,\n",
       " 'different': 1,\n",
       " 'founding': 1,\n",
       " 'simulating': 1,\n",
       " 'brain': 1,\n",
       " 'modeling': 1,\n",
       " 'formal': 2,\n",
       " 'logic': 2,\n",
       " 'large': 1,\n",
       " 'databases': 1,\n",
       " 'knowledge': 2,\n",
       " 'imitating': 1,\n",
       " 'animal': 1,\n",
       " 'behavior': 1,\n",
       " 'decades': 1,\n",
       " '21st': 1,\n",
       " 'century': 1,\n",
       " 'highly': 2,\n",
       " 'mathematical': 2,\n",
       " 'statistical': 1,\n",
       " 'machine': 2,\n",
       " 'dominated': 1,\n",
       " 'technique': 1,\n",
       " 'proved': 1,\n",
       " 'successful': 1,\n",
       " 'helping': 1,\n",
       " 'solve': 3,\n",
       " 'challenging': 1,\n",
       " 'problems': 2,\n",
       " 'industry': 1,\n",
       " 'academia.[11][10': 1,\n",
       " 'sub': 1,\n",
       " 'fields': 2,\n",
       " 'centered': 1,\n",
       " 'particular': 2,\n",
       " 'goals': 2,\n",
       " 'use': 1,\n",
       " 'tools': 1,\n",
       " 'traditional': 1,\n",
       " 'reasoning': 1,\n",
       " 'representation': 1,\n",
       " 'planning': 1,\n",
       " 'language': 1,\n",
       " 'processing': 1,\n",
       " 'perception': 1,\n",
       " 'ability': 2,\n",
       " 'manipulate': 1,\n",
       " 'objects.[c': 1,\n",
       " 'General': 1,\n",
       " 'arbitrary': 1,\n",
       " 'long': 1,\n",
       " 'goals.[12': 1,\n",
       " 'adapted': 1,\n",
       " 'integrated': 1,\n",
       " 'wide': 1,\n",
       " 'range': 1,\n",
       " 'techniques': 1,\n",
       " 'optimization': 1,\n",
       " 'neural': 1,\n",
       " 'networks': 1,\n",
       " 'methods': 1,\n",
       " 'based': 1,\n",
       " 'statistics': 1,\n",
       " 'probability': 1,\n",
       " 'economics': 1,\n",
       " 'draws': 1,\n",
       " 'computer': 1,\n",
       " 'science': 1,\n",
       " 'psychology': 1,\n",
       " 'linguistics': 1,\n",
       " 'philosophy': 2,\n",
       " 'assumption': 1,\n",
       " 'precisely': 1,\n",
       " 'described': 1,\n",
       " 'simulate': 1,\n",
       " 'it\".[d': 1,\n",
       " 'raised': 1,\n",
       " 'philosophical': 1,\n",
       " 'arguments': 1,\n",
       " 'ethical': 1,\n",
       " 'consequences': 1,\n",
       " 'creating': 1,\n",
       " 'beings': 1,\n",
       " 'endowed': 1,\n",
       " 'like': 1,\n",
       " 'issues': 1,\n",
       " 'explored': 1,\n",
       " 'myth': 1,\n",
       " 'fiction': 2,\n",
       " 'antiquity.[14': 1,\n",
       " 'Science': 1,\n",
       " 'writers': 1,\n",
       " 'futurologists': 1,\n",
       " 'suggested': 1,\n",
       " 'existential': 1,\n",
       " 'risk': 1,\n",
       " 'humanity': 1,\n",
       " 'rational': 1,\n",
       " 'capacities': 1,\n",
       " 'overseen': 1}"
      ]
     },
     "execution_count": 41,
     "metadata": {},
     "output_type": "execute_result"
    }
   ],
   "source": [
    "word_freq"
   ]
  },
  {
   "cell_type": "code",
   "execution_count": 42,
   "metadata": {},
   "outputs": [
    {
     "data": {
      "text/plain": [
       "14"
      ]
     },
     "execution_count": 42,
     "metadata": {},
     "output_type": "execute_result"
    }
   ],
   "source": [
    "max_freq = max(word_freq.values())\n",
    "max_freq"
   ]
  },
  {
   "cell_type": "code",
   "execution_count": 43,
   "metadata": {},
   "outputs": [],
   "source": [
    "for word in word_freq.keys():\n",
    "    word_freq[word] = word_freq[word]/max_freq"
   ]
  },
  {
   "cell_type": "code",
   "execution_count": 44,
   "metadata": {
    "scrolled": true
   },
   "outputs": [
    {
     "name": "stdout",
     "output_type": "stream",
     "text": [
      "{'Artificial': 0.14285714285714285, 'intelligence': 0.7142857142857143, 'AI': 1.0, 'demonstrated': 0.07142857142857142, 'machines': 0.21428571428571427, 'opposed': 0.07142857142857142, 'natural': 0.14285714285714285, 'displayed': 0.07142857142857142, 'animals': 0.07142857142857142, 'including': 0.21428571428571427, 'humans': 0.07142857142857142, 'research': 0.2857142857142857, 'defined': 0.07142857142857142, 'field': 0.2857142857142857, 'study': 0.07142857142857142, 'intelligent': 0.07142857142857142, 'agents': 0.07142857142857142, 'refers': 0.07142857142857142, 'system': 0.07142857142857142, 'perceives': 0.07142857142857142, 'environment': 0.07142857142857142, 'takes': 0.07142857142857142, 'actions': 0.07142857142857142, 'maximize': 0.07142857142857142, 'chance': 0.07142857142857142, 'achieving': 0.07142857142857142, 'goals.[a': 0.07142857142857142, '\\n': 0.35714285714285715, 'term': 0.14285714285714285, 'artificial': 0.21428571428571427, 'previously': 0.14285714285714285, 'describe': 0.14285714285714285, 'mimic': 0.07142857142857142, 'display': 0.07142857142857142, 'human': 0.42857142857142855, 'cognitive': 0.07142857142857142, 'skills': 0.07142857142857142, 'associated': 0.07142857142857142, 'mind': 0.14285714285714285, 'learning': 0.21428571428571427, 'problem': 0.2857142857142857, 'solving': 0.21428571428571427, 'definition': 0.14285714285714285, 'rejected': 0.07142857142857142, 'major': 0.07142857142857142, 'researchers': 0.14285714285714285, 'terms': 0.07142857142857142, 'rationality': 0.07142857142857142, 'acting': 0.07142857142857142, 'rationally': 0.07142857142857142, 'limit': 0.07142857142857142, 'articulated.[b': 0.07142857142857142, 'applications': 0.07142857142857142, 'include': 0.14285714285714285, 'advanced': 0.07142857142857142, 'web': 0.07142857142857142, 'search': 0.14285714285714285, 'engines': 0.07142857142857142, 'e.g.': 0.14285714285714285, 'Google': 0.07142857142857142, 'recommendation': 0.07142857142857142, 'systems': 0.14285714285714285, 'YouTube': 0.07142857142857142, 'Amazon': 0.07142857142857142, 'Netflix': 0.07142857142857142, 'understanding': 0.07142857142857142, 'speech': 0.07142857142857142, 'Siri': 0.07142857142857142, 'Alexa': 0.07142857142857142, 'self': 0.07142857142857142, 'driving': 0.07142857142857142, 'cars': 0.07142857142857142, 'Tesla': 0.07142857142857142, 'automated': 0.07142857142857142, 'decision': 0.07142857142857142, 'making': 0.07142857142857142, 'competing': 0.07142857142857142, 'highest': 0.07142857142857142, 'level': 0.07142857142857142, 'strategic': 0.07142857142857142, 'game': 0.07142857142857142, 'chess': 0.07142857142857142, 'Go).[2][citation': 0.07142857142857142, 'needed': 0.07142857142857142, 'increasingly': 0.07142857142857142, 'capable': 0.07142857142857142, 'tasks': 0.07142857142857142, 'considered': 0.14285714285714285, 'require': 0.07142857142857142, 'removed': 0.07142857142857142, 'phenomenon': 0.07142857142857142, 'known': 0.14285714285714285, 'effect.[3': 0.07142857142857142, 'instance': 0.07142857142857142, 'optical': 0.07142857142857142, 'character': 0.07142857142857142, 'recognition': 0.07142857142857142, 'frequently': 0.07142857142857142, 'excluded': 0.07142857142857142, 'things': 0.07142857142857142, 'AI,[4': 0.07142857142857142, 'having': 0.07142857142857142, 'routine': 0.07142857142857142, 'technology.[5': 0.07142857142857142, 'founded': 0.14285714285714285, 'academic': 0.07142857142857142, 'discipline': 0.07142857142857142, '1956': 0.07142857142857142, 'years': 0.07142857142857142, 'experienced': 0.07142857142857142, 'waves': 0.07142857142857142, 'optimism,[6][7': 0.07142857142857142, 'followed': 0.14285714285714285, 'disappointment': 0.07142857142857142, 'loss': 0.07142857142857142, 'funding': 0.07142857142857142, 'winter\"),[8][9': 0.07142857142857142, 'new': 0.07142857142857142, 'approaches': 0.14285714285714285, 'success': 0.07142857142857142, 'renewed': 0.07142857142857142, 'funding.[7][10': 0.07142857142857142, 'tried': 0.07142857142857142, 'discarded': 0.07142857142857142, 'different': 0.07142857142857142, 'founding': 0.07142857142857142, 'simulating': 0.07142857142857142, 'brain': 0.07142857142857142, 'modeling': 0.07142857142857142, 'formal': 0.14285714285714285, 'logic': 0.14285714285714285, 'large': 0.07142857142857142, 'databases': 0.07142857142857142, 'knowledge': 0.14285714285714285, 'imitating': 0.07142857142857142, 'animal': 0.07142857142857142, 'behavior': 0.07142857142857142, 'decades': 0.07142857142857142, '21st': 0.07142857142857142, 'century': 0.07142857142857142, 'highly': 0.14285714285714285, 'mathematical': 0.14285714285714285, 'statistical': 0.07142857142857142, 'machine': 0.14285714285714285, 'dominated': 0.07142857142857142, 'technique': 0.07142857142857142, 'proved': 0.07142857142857142, 'successful': 0.07142857142857142, 'helping': 0.07142857142857142, 'solve': 0.21428571428571427, 'challenging': 0.07142857142857142, 'problems': 0.14285714285714285, 'industry': 0.07142857142857142, 'academia.[11][10': 0.07142857142857142, 'sub': 0.07142857142857142, 'fields': 0.14285714285714285, 'centered': 0.07142857142857142, 'particular': 0.14285714285714285, 'goals': 0.14285714285714285, 'use': 0.07142857142857142, 'tools': 0.07142857142857142, 'traditional': 0.07142857142857142, 'reasoning': 0.07142857142857142, 'representation': 0.07142857142857142, 'planning': 0.07142857142857142, 'language': 0.07142857142857142, 'processing': 0.07142857142857142, 'perception': 0.07142857142857142, 'ability': 0.14285714285714285, 'manipulate': 0.07142857142857142, 'objects.[c': 0.07142857142857142, 'General': 0.07142857142857142, 'arbitrary': 0.07142857142857142, 'long': 0.07142857142857142, 'goals.[12': 0.07142857142857142, 'adapted': 0.07142857142857142, 'integrated': 0.07142857142857142, 'wide': 0.07142857142857142, 'range': 0.07142857142857142, 'techniques': 0.07142857142857142, 'optimization': 0.07142857142857142, 'neural': 0.07142857142857142, 'networks': 0.07142857142857142, 'methods': 0.07142857142857142, 'based': 0.07142857142857142, 'statistics': 0.07142857142857142, 'probability': 0.07142857142857142, 'economics': 0.07142857142857142, 'draws': 0.07142857142857142, 'computer': 0.07142857142857142, 'science': 0.07142857142857142, 'psychology': 0.07142857142857142, 'linguistics': 0.07142857142857142, 'philosophy': 0.14285714285714285, 'assumption': 0.07142857142857142, 'precisely': 0.07142857142857142, 'described': 0.07142857142857142, 'simulate': 0.07142857142857142, 'it\".[d': 0.07142857142857142, 'raised': 0.07142857142857142, 'philosophical': 0.07142857142857142, 'arguments': 0.07142857142857142, 'ethical': 0.07142857142857142, 'consequences': 0.07142857142857142, 'creating': 0.07142857142857142, 'beings': 0.07142857142857142, 'endowed': 0.07142857142857142, 'like': 0.07142857142857142, 'issues': 0.07142857142857142, 'explored': 0.07142857142857142, 'myth': 0.07142857142857142, 'fiction': 0.14285714285714285, 'antiquity.[14': 0.07142857142857142, 'Science': 0.07142857142857142, 'writers': 0.07142857142857142, 'futurologists': 0.07142857142857142, 'suggested': 0.07142857142857142, 'existential': 0.07142857142857142, 'risk': 0.07142857142857142, 'humanity': 0.07142857142857142, 'rational': 0.07142857142857142, 'capacities': 0.07142857142857142, 'overseen': 0.07142857142857142}\n"
     ]
    }
   ],
   "source": [
    "print(word_freq)"
   ]
  },
  {
   "cell_type": "code",
   "execution_count": 45,
   "metadata": {},
   "outputs": [
    {
     "data": {
      "text/plain": [
       "[Artificial intelligence (AI) is intelligence demonstrated by machines, as opposed to the natural intelligence displayed by animals including humans.,\n",
       " AI research has been defined as the field of study of intelligent agents, which refers to any system that perceives its environment and takes actions that maximize its chance of achieving its goals.[a]\n",
       " The term \"artificial intelligence\" had previously been used to describe machines that mimic and display \"human\" cognitive skills that are associated with the human mind, such as \"learning\" and \"problem-solving\".,\n",
       " This definition has since been rejected by major AI researchers who now describe AI in terms of rationality and acting rationally, which does not limit how intelligence can be articulated.[b]\n",
       " AI applications include advanced web search engines (e.g., Google), recommendation systems (used by YouTube, Amazon and Netflix), understanding human speech (such as Siri and Alexa), self-driving cars (e.g., Tesla), automated decision-making and competing at the highest level in strategic game systems (such as chess and Go).[2][citation needed] As machines become increasingly capable, tasks considered to require \"intelligence\" are often removed from the definition of AI, a phenomenon known as the AI effect.[3],\n",
       " For instance, optical character recognition is frequently excluded from things considered to be AI,[4] having become a routine technology.[5]\n",
       " Artificial intelligence was founded as an academic discipline in 1956, and in the years since has experienced several waves of optimism,[6][7] followed by disappointment and the loss of funding (known as an \"AI winter\"),[8][9] followed by new approaches, success and renewed funding.[7][10] AI research has tried and discarded many different approaches since its founding, including simulating the brain, modeling human problem solving, formal logic, large databases of knowledge and imitating animal behavior.,\n",
       " In the first decades of the 21st century, highly mathematical-statistical machine learning has dominated the field, and this technique has proved highly successful, helping to solve many challenging problems throughout industry and academia.[11][10]\n",
       " The various sub-fields of AI research are centered around particular goals and the use of particular tools.,\n",
       " The traditional goals of AI research include reasoning, knowledge representation, planning, learning, natural language processing, perception, and the ability to move and manipulate objects.[c],\n",
       " General intelligence (the ability to solve an arbitrary problem) is among the field's long-term goals.[12] To solve these problems, AI researchers have adapted and integrated a wide range of problem-solving techniques—including search and mathematical optimization, formal logic, artificial neural networks, and methods based on statistics, probability and economics.,\n",
       " AI also draws upon computer science, psychology, linguistics, philosophy, and many other fields.,\n",
       " \n",
       " The field was founded on the assumption that human intelligence \"can be so precisely described that a machine can be made to simulate it\".[d],\n",
       " This raised philosophical arguments about the mind and the ethical consequences of creating artificial beings endowed with human-like intelligence; these issues have previously been explored by myth, fiction and philosophy since antiquity.[14] Science fiction writers and futurologists have since suggested that AI may become an existential risk to humanity if its rational capacities are not overseen]"
      ]
     },
     "execution_count": 45,
     "metadata": {},
     "output_type": "execute_result"
    }
   ],
   "source": [
    "sent_tokens = [sent for sent in doc.sents]\n",
    "sent_tokens"
   ]
  },
  {
   "cell_type": "code",
   "execution_count": 46,
   "metadata": {},
   "outputs": [],
   "source": [
    "sent_score = {}\n",
    "for sent in sent_tokens:\n",
    "    for word in sent:\n",
    "        if word.text.lower() in word_freq.keys():\n",
    "            if sent not in sent_score.keys():\n",
    "                sent_score[sent] = word_freq[word.text.lower()]\n",
    "            else:\n",
    "                sent_score[sent] += word_freq[word.text.lower()]"
   ]
  },
  {
   "cell_type": "code",
   "execution_count": 47,
   "metadata": {},
   "outputs": [
    {
     "data": {
      "text/plain": [
       "{Artificial intelligence (AI) is intelligence demonstrated by machines, as opposed to the natural intelligence displayed by animals including humans.: 3.2857142857142865,\n",
       " AI research has been defined as the field of study of intelligent agents, which refers to any system that perceives its environment and takes actions that maximize its chance of achieving its goals.[a]\n",
       " The term \"artificial intelligence\" had previously been used to describe machines that mimic and display \"human\" cognitive skills that are associated with the human mind, such as \"learning\" and \"problem-solving\".: 5.571428571428572,\n",
       " This definition has since been rejected by major AI researchers who now describe AI in terms of rationality and acting rationally, which does not limit how intelligence can be articulated.[b]\n",
       " AI applications include advanced web search engines (e.g., Google), recommendation systems (used by YouTube, Amazon and Netflix), understanding human speech (such as Siri and Alexa), self-driving cars (e.g., Tesla), automated decision-making and competing at the highest level in strategic game systems (such as chess and Go).[2][citation needed] As machines become increasingly capable, tasks considered to require \"intelligence\" are often removed from the definition of AI, a phenomenon known as the AI effect.[3]: 6.6428571428571415,\n",
       " For instance, optical character recognition is frequently excluded from things considered to be AI,[4] having become a routine technology.[5]\n",
       " Artificial intelligence was founded as an academic discipline in 1956, and in the years since has experienced several waves of optimism,[6][7] followed by disappointment and the loss of funding (known as an \"AI winter\"),[8][9] followed by new approaches, success and renewed funding.[7][10] AI research has tried and discarded many different approaches since its founding, including simulating the brain, modeling human problem solving, formal logic, large databases of knowledge and imitating animal behavior.: 6.785714285714287,\n",
       " In the first decades of the 21st century, highly mathematical-statistical machine learning has dominated the field, and this technique has proved highly successful, helping to solve many challenging problems throughout industry and academia.[11][10]\n",
       " The various sub-fields of AI research are centered around particular goals and the use of particular tools.: 3.785714285714286,\n",
       " The traditional goals of AI research include reasoning, knowledge representation, planning, learning, natural language processing, perception, and the ability to move and manipulate objects.[c]: 1.8571428571428565,\n",
       " General intelligence (the ability to solve an arbitrary problem) is among the field's long-term goals.[12] To solve these problems, AI researchers have adapted and integrated a wide range of problem-solving techniques—including search and mathematical optimization, formal logic, artificial neural networks, and methods based on statistics, probability and economics.: 4.928571428571428,\n",
       " AI also draws upon computer science, psychology, linguistics, philosophy, and many other fields.: 0.6428571428571428,\n",
       " \n",
       " The field was founded on the assumption that human intelligence \"can be so precisely described that a machine can be made to simulate it\".[d]: 2.4285714285714293,\n",
       " This raised philosophical arguments about the mind and the ethical consequences of creating artificial beings endowed with human-like intelligence; these issues have previously been explored by myth, fiction and philosophy since antiquity.[14] Science fiction writers and futurologists have since suggested that AI may become an existential risk to humanity if its rational capacities are not overseen: 3.7142857142857166}"
      ]
     },
     "execution_count": 47,
     "metadata": {},
     "output_type": "execute_result"
    }
   ],
   "source": [
    "sent_score"
   ]
  },
  {
   "cell_type": "code",
   "execution_count": 48,
   "metadata": {},
   "outputs": [],
   "source": [
    "from heapq import nlargest"
   ]
  },
  {
   "cell_type": "code",
   "execution_count": 49,
   "metadata": {},
   "outputs": [
    {
     "data": {
      "text/plain": [
       "3"
      ]
     },
     "execution_count": 49,
     "metadata": {},
     "output_type": "execute_result"
    }
   ],
   "source": [
    "select_lenght = int(len(sent_tokens)*0.3)\n",
    "select_lenght"
   ]
  },
  {
   "cell_type": "code",
   "execution_count": 50,
   "metadata": {},
   "outputs": [],
   "source": [
    "summary = nlargest(select_lenght, sent_score, key = sent_score.get)"
   ]
  },
  {
   "cell_type": "code",
   "execution_count": 51,
   "metadata": {},
   "outputs": [
    {
     "data": {
      "text/plain": [
       "[For instance, optical character recognition is frequently excluded from things considered to be AI,[4] having become a routine technology.[5]\n",
       " Artificial intelligence was founded as an academic discipline in 1956, and in the years since has experienced several waves of optimism,[6][7] followed by disappointment and the loss of funding (known as an \"AI winter\"),[8][9] followed by new approaches, success and renewed funding.[7][10] AI research has tried and discarded many different approaches since its founding, including simulating the brain, modeling human problem solving, formal logic, large databases of knowledge and imitating animal behavior.,\n",
       " This definition has since been rejected by major AI researchers who now describe AI in terms of rationality and acting rationally, which does not limit how intelligence can be articulated.[b]\n",
       " AI applications include advanced web search engines (e.g., Google), recommendation systems (used by YouTube, Amazon and Netflix), understanding human speech (such as Siri and Alexa), self-driving cars (e.g., Tesla), automated decision-making and competing at the highest level in strategic game systems (such as chess and Go).[2][citation needed] As machines become increasingly capable, tasks considered to require \"intelligence\" are often removed from the definition of AI, a phenomenon known as the AI effect.[3],\n",
       " AI research has been defined as the field of study of intelligent agents, which refers to any system that perceives its environment and takes actions that maximize its chance of achieving its goals.[a]\n",
       " The term \"artificial intelligence\" had previously been used to describe machines that mimic and display \"human\" cognitive skills that are associated with the human mind, such as \"learning\" and \"problem-solving\".]"
      ]
     },
     "execution_count": 51,
     "metadata": {},
     "output_type": "execute_result"
    }
   ],
   "source": [
    "summary"
   ]
  },
  {
   "cell_type": "code",
   "execution_count": 52,
   "metadata": {},
   "outputs": [
    {
     "data": {
      "text/plain": [
       "'For instance, optical character recognition is frequently excluded from things considered to be AI,[4] having become a routine technology.[5]\\nArtificial intelligence was founded as an academic discipline in 1956, and in the years since has experienced several waves of optimism,[6][7] followed by disappointment and the loss of funding (known as an \"AI winter\"),[8][9] followed by new approaches, success and renewed funding.[7][10] AI research has tried and discarded many different approaches since its founding, including simulating the brain, modeling human problem solving, formal logic, large databases of knowledge and imitating animal behavior. This definition has since been rejected by major AI researchers who now describe AI in terms of rationality and acting rationally, which does not limit how intelligence can be articulated.[b]\\nAI applications include advanced web search engines (e.g., Google), recommendation systems (used by YouTube, Amazon and Netflix), understanding human speech (such as Siri and Alexa), self-driving cars (e.g., Tesla), automated decision-making and competing at the highest level in strategic game systems (such as chess and Go).[2][citation needed] As machines become increasingly capable, tasks considered to require \"intelligence\" are often removed from the definition of AI, a phenomenon known as the AI effect.[3] AI research has been defined as the field of study of intelligent agents, which refers to any system that perceives its environment and takes actions that maximize its chance of achieving its goals.[a]\\nThe term \"artificial intelligence\" had previously been used to describe machines that mimic and display \"human\" cognitive skills that are associated with the human mind, such as \"learning\" and \"problem-solving\".'"
      ]
     },
     "execution_count": 52,
     "metadata": {},
     "output_type": "execute_result"
    }
   ],
   "source": [
    "final_summary = [word.text for word in summary]\n",
    "summary = ' '.join(final_summary)\n",
    "summary"
   ]
  },
  {
   "cell_type": "code",
   "execution_count": 53,
   "metadata": {},
   "outputs": [
    {
     "data": {
      "text/plain": [
       "3484"
      ]
     },
     "execution_count": 53,
     "metadata": {},
     "output_type": "execute_result"
    }
   ],
   "source": [
    "len(text)"
   ]
  },
  {
   "cell_type": "code",
   "execution_count": 54,
   "metadata": {},
   "outputs": [
    {
     "data": {
      "text/plain": [
       "1774"
      ]
     },
     "execution_count": 54,
     "metadata": {},
     "output_type": "execute_result"
    }
   ],
   "source": [
    "len(summary)"
   ]
  },
  {
   "cell_type": "code",
   "execution_count": null,
   "metadata": {},
   "outputs": [],
   "source": []
  }
 ],
 "metadata": {
  "kernelspec": {
   "display_name": "Python 3",
   "language": "python",
   "name": "python3"
  },
  "language_info": {
   "codemirror_mode": {
    "name": "ipython",
    "version": 3
   },
   "file_extension": ".py",
   "mimetype": "text/x-python",
   "name": "python",
   "nbconvert_exporter": "python",
   "pygments_lexer": "ipython3",
   "version": "3.8.5"
  }
 },
 "nbformat": 4,
 "nbformat_minor": 5
}
